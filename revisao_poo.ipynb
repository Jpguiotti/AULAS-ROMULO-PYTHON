{
 "cells": [
  {
   "cell_type": "markdown",
   "metadata": {},
   "source": [
    "#Revisao POO\n",
    "\n",
    "Criar uma classe que ajude no controle financeiro\n",
    "Os atributos são:\n",
    "- descricao\n",
    "- valor \n",
    "- categoria "
   ]
  },
  {
   "cell_type": "code",
   "execution_count": 12,
   "metadata": {},
   "outputs": [],
   "source": [
    "class ControleFincanceiro:\n",
    "    #esse é o construtor ( funcao especial )\n",
    "    def __init__(self,descricao,valor,categoria):\n",
    "        self.descricao = descricao\n",
    "        self.valor = valor\n",
    "        self.categoria = categoria\n",
    "    # métodos de trabalho (workers)    \n",
    "    def verificar_valor(self):\n",
    "        if self.valor > 3000:\n",
    "            return \"alerta cartão!!!!\"\n",
    "        else:\n",
    "            return \"faça sua compras...!\"\n",
    "\n"
   ]
  },
  {
   "cell_type": "code",
   "execution_count": 13,
   "metadata": {},
   "outputs": [
    {
     "name": "stdout",
     "output_type": "stream",
     "text": [
      "resultrado:faça sua compras...! - categoria:lazer\n"
     ]
    }
   ],
   "source": [
    "cf = ControleFincanceiro(\"cinemark familia\",180.25,\"lazer\")\n",
    "cf.verificar_valor()\n",
    "print(f\"resultrado:{cf.verificar_valor()} - categoria:{cf.categoria}\")"
   ]
  },
  {
   "cell_type": "markdown",
   "metadata": {},
   "source": [
    "# Desafio\n",
    "\n",
    "- Criar uma classe com o nome Matematica\n",
    "- Criar um construtor com dois atributos com os nomes x,y\n",
    "- Criar um método para somar x e y \n",
    "- Criar um método para dividir x e y \n",
    "- Criar um método para calcular a média aritimética de x e y \n",
    "- Criar um método para calcular a média ponderada com peso 1 e 2 "
   ]
  },
  {
   "cell_type": "code",
   "execution_count": 30,
   "metadata": {},
   "outputs": [
    {
     "name": "stdout",
     "output_type": "stream",
     "text": [
      "Soma: 9\n",
      "Divisão: 2.0\n",
      "Média Aritmética: 4.5\n",
      "Média Ponderada: 4.0\n"
     ]
    }
   ],
   "source": [
    "class Matemática: # criação da classe de nome Matemática\n",
    "    def __init__(self, x, y): # criação do construtor com atributos x e y\n",
    "        self.x = x\n",
    "        self.y = y\n",
    "\n",
    "    def somar(self):\n",
    "        return self.x + self.y\n",
    "    \n",
    "    def dividir(self):\n",
    "        if self.y != 0:\n",
    "            return self.x / self.y\n",
    "        else:\n",
    "            return \"Divisão por zero não é permitida\"\n",
    "    \n",
    "    def media(self):\n",
    "        return (self.x + self.y) / 2\n",
    "    \n",
    "    def media_ponderada(self): # Peso de x é 1 e peso de y é 2\n",
    "        return (self.x * 1 + self.y * 2) / 3\n",
    "\n",
    "\n",
    "numeros = Matemática(6, 3)\n",
    "print(\"Soma:\", numeros.somar())\n",
    "print(\"Divisão:\", numeros.dividir())\n",
    "print(\"Média Aritmética:\", numeros.media())\n",
    "print(\"Média Ponderada:\", numeros.media_ponderada())\n",
    "\n"
   ]
  }
 ],
 "metadata": {
  "kernelspec": {
   "display_name": ".venv",
   "language": "python",
   "name": "python3"
  },
  "language_info": {
   "codemirror_mode": {
    "name": "ipython",
    "version": 3
   },
   "file_extension": ".py",
   "mimetype": "text/x-python",
   "name": "python",
   "nbconvert_exporter": "python",
   "pygments_lexer": "ipython3",
   "version": "3.12.4"
  }
 },
 "nbformat": 4,
 "nbformat_minor": 2
}
